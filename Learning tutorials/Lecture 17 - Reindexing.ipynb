{
 "cells": [
  {
   "cell_type": "code",
   "execution_count": 5,
   "metadata": {
    "collapsed": false
   },
   "outputs": [],
   "source": [
    "import numpy as np\n",
    "from pandas import Series, DataFrame\n",
    "import pandas as pd\n",
    "from numpy.random import randn"
   ]
  },
  {
   "cell_type": "code",
   "execution_count": 7,
   "metadata": {
    "collapsed": false
   },
   "outputs": [
    {
     "data": {
      "text/plain": [
       "A    1\n",
       "B    2\n",
       "C    3\n",
       "D    4\n",
       "dtype: int64"
      ]
     },
     "execution_count": 7,
     "metadata": {},
     "output_type": "execute_result"
    }
   ],
   "source": [
    "ser1=Series([1,2,3,4],index=['A','B','C','D'])\n",
    "ser1"
   ]
  },
  {
   "cell_type": "code",
   "execution_count": 8,
   "metadata": {
    "collapsed": false
   },
   "outputs": [
    {
     "data": {
      "text/plain": [
       "A     1\n",
       "B     2\n",
       "C     3\n",
       "D     4\n",
       "E   NaN\n",
       "F   NaN\n",
       "dtype: float64"
      ]
     },
     "execution_count": 8,
     "metadata": {},
     "output_type": "execute_result"
    }
   ],
   "source": [
    "ser2 = ser1.reindex(['A','B','C','D','E','F'])\n",
    "ser2"
   ]
  },
  {
   "cell_type": "code",
   "execution_count": 9,
   "metadata": {
    "collapsed": false
   },
   "outputs": [
    {
     "data": {
      "text/plain": [
       "A     1\n",
       "B     2\n",
       "C     3\n",
       "D     4\n",
       "E   NaN\n",
       "F   NaN\n",
       "G     0\n",
       "dtype: float64"
      ]
     },
     "execution_count": 9,
     "metadata": {},
     "output_type": "execute_result"
    }
   ],
   "source": [
    "ser2.reindex(['A','B','C','D','E','F','G'],fill_value=0)"
   ]
  },
  {
   "cell_type": "code",
   "execution_count": 10,
   "metadata": {
    "collapsed": false
   },
   "outputs": [
    {
     "data": {
      "text/plain": [
       "0        USA\n",
       "5     Mexico\n",
       "10    Canada\n",
       "dtype: object"
      ]
     },
     "execution_count": 10,
     "metadata": {},
     "output_type": "execute_result"
    }
   ],
   "source": [
    "ser3 = Series(['USA',\"Mexico\",\"Canada\"],index=[0,5,10])\n",
    "ser3"
   ]
  },
  {
   "cell_type": "code",
   "execution_count": 11,
   "metadata": {
    "collapsed": true
   },
   "outputs": [],
   "source": [
    "ranger = range(15)"
   ]
  },
  {
   "cell_type": "code",
   "execution_count": 12,
   "metadata": {
    "collapsed": false
   },
   "outputs": [
    {
     "data": {
      "text/plain": [
       "<function range>"
      ]
     },
     "execution_count": 12,
     "metadata": {},
     "output_type": "execute_result"
    }
   ],
   "source": [
    "range"
   ]
  },
  {
   "cell_type": "code",
   "execution_count": 13,
   "metadata": {
    "collapsed": false
   },
   "outputs": [
    {
     "data": {
      "text/plain": [
       "[0, 1, 2, 3, 4, 5, 6, 7, 8, 9, 10, 11, 12, 13, 14]"
      ]
     },
     "execution_count": 13,
     "metadata": {},
     "output_type": "execute_result"
    }
   ],
   "source": [
    "ranger"
   ]
  },
  {
   "cell_type": "code",
   "execution_count": 15,
   "metadata": {
    "collapsed": false
   },
   "outputs": [
    {
     "data": {
      "text/plain": [
       "0        USA\n",
       "1        USA\n",
       "2        USA\n",
       "3        USA\n",
       "4        USA\n",
       "5     Mexico\n",
       "6     Mexico\n",
       "7     Mexico\n",
       "8     Mexico\n",
       "9     Mexico\n",
       "10    Canada\n",
       "11    Canada\n",
       "12    Canada\n",
       "13    Canada\n",
       "14    Canada\n",
       "dtype: object"
      ]
     },
     "execution_count": 15,
     "metadata": {},
     "output_type": "execute_result"
    }
   ],
   "source": [
    "ser3.reindex(ranger,method='ffill')"
   ]
  },
  {
   "cell_type": "code",
   "execution_count": 19,
   "metadata": {
    "collapsed": false
   },
   "outputs": [
    {
     "data": {
      "text/html": [
       "<div>\n",
       "<table border=\"1\" class=\"dataframe\">\n",
       "  <thead>\n",
       "    <tr style=\"text-align: right;\">\n",
       "      <th></th>\n",
       "      <th>col1</th>\n",
       "      <th>col2</th>\n",
       "      <th>col3</th>\n",
       "      <th>col4</th>\n",
       "      <th>col5</th>\n",
       "    </tr>\n",
       "  </thead>\n",
       "  <tbody>\n",
       "    <tr>\n",
       "      <th>A</th>\n",
       "      <td>-0.850490</td>\n",
       "      <td>3.163924</td>\n",
       "      <td>-0.682093</td>\n",
       "      <td>-0.771686</td>\n",
       "      <td>0.686310</td>\n",
       "    </tr>\n",
       "    <tr>\n",
       "      <th>B</th>\n",
       "      <td>0.321337</td>\n",
       "      <td>-0.058771</td>\n",
       "      <td>0.761163</td>\n",
       "      <td>0.886831</td>\n",
       "      <td>-0.519606</td>\n",
       "    </tr>\n",
       "    <tr>\n",
       "      <th>D</th>\n",
       "      <td>0.552078</td>\n",
       "      <td>1.070933</td>\n",
       "      <td>-1.156320</td>\n",
       "      <td>0.345840</td>\n",
       "      <td>-3.015076</td>\n",
       "    </tr>\n",
       "    <tr>\n",
       "      <th>E</th>\n",
       "      <td>-0.986084</td>\n",
       "      <td>0.034935</td>\n",
       "      <td>1.039179</td>\n",
       "      <td>0.893920</td>\n",
       "      <td>-0.663813</td>\n",
       "    </tr>\n",
       "    <tr>\n",
       "      <th>F</th>\n",
       "      <td>-1.176792</td>\n",
       "      <td>0.137833</td>\n",
       "      <td>-0.419405</td>\n",
       "      <td>-0.704075</td>\n",
       "      <td>2.057130</td>\n",
       "    </tr>\n",
       "  </tbody>\n",
       "</table>\n",
       "</div>"
      ],
      "text/plain": [
       "       col1      col2      col3      col4      col5\n",
       "A -0.850490  3.163924 -0.682093 -0.771686  0.686310\n",
       "B  0.321337 -0.058771  0.761163  0.886831 -0.519606\n",
       "D  0.552078  1.070933 -1.156320  0.345840 -3.015076\n",
       "E -0.986084  0.034935  1.039179  0.893920 -0.663813\n",
       "F -1.176792  0.137833 -0.419405 -0.704075  2.057130"
      ]
     },
     "execution_count": 19,
     "metadata": {},
     "output_type": "execute_result"
    }
   ],
   "source": [
    "dframe = DataFrame(randn(25).reshape((5,5)),index=['A','B','D','E','F'],columns=['col1','col2','col3','col4','col5'])\n",
    "dframe"
   ]
  },
  {
   "cell_type": "code",
   "execution_count": 21,
   "metadata": {
    "collapsed": false
   },
   "outputs": [
    {
     "data": {
      "text/html": [
       "<div>\n",
       "<table border=\"1\" class=\"dataframe\">\n",
       "  <thead>\n",
       "    <tr style=\"text-align: right;\">\n",
       "      <th></th>\n",
       "      <th>col1</th>\n",
       "      <th>col2</th>\n",
       "      <th>col3</th>\n",
       "      <th>col4</th>\n",
       "      <th>col5</th>\n",
       "    </tr>\n",
       "  </thead>\n",
       "  <tbody>\n",
       "    <tr>\n",
       "      <th>A</th>\n",
       "      <td>-0.850490</td>\n",
       "      <td>3.163924</td>\n",
       "      <td>-0.682093</td>\n",
       "      <td>-0.771686</td>\n",
       "      <td>0.686310</td>\n",
       "    </tr>\n",
       "    <tr>\n",
       "      <th>B</th>\n",
       "      <td>0.321337</td>\n",
       "      <td>-0.058771</td>\n",
       "      <td>0.761163</td>\n",
       "      <td>0.886831</td>\n",
       "      <td>-0.519606</td>\n",
       "    </tr>\n",
       "    <tr>\n",
       "      <th>C</th>\n",
       "      <td>NaN</td>\n",
       "      <td>NaN</td>\n",
       "      <td>NaN</td>\n",
       "      <td>NaN</td>\n",
       "      <td>NaN</td>\n",
       "    </tr>\n",
       "    <tr>\n",
       "      <th>D</th>\n",
       "      <td>0.552078</td>\n",
       "      <td>1.070933</td>\n",
       "      <td>-1.156320</td>\n",
       "      <td>0.345840</td>\n",
       "      <td>-3.015076</td>\n",
       "    </tr>\n",
       "    <tr>\n",
       "      <th>E</th>\n",
       "      <td>-0.986084</td>\n",
       "      <td>0.034935</td>\n",
       "      <td>1.039179</td>\n",
       "      <td>0.893920</td>\n",
       "      <td>-0.663813</td>\n",
       "    </tr>\n",
       "    <tr>\n",
       "      <th>F</th>\n",
       "      <td>-1.176792</td>\n",
       "      <td>0.137833</td>\n",
       "      <td>-0.419405</td>\n",
       "      <td>-0.704075</td>\n",
       "      <td>2.057130</td>\n",
       "    </tr>\n",
       "  </tbody>\n",
       "</table>\n",
       "</div>"
      ],
      "text/plain": [
       "       col1      col2      col3      col4      col5\n",
       "A -0.850490  3.163924 -0.682093 -0.771686  0.686310\n",
       "B  0.321337 -0.058771  0.761163  0.886831 -0.519606\n",
       "C       NaN       NaN       NaN       NaN       NaN\n",
       "D  0.552078  1.070933 -1.156320  0.345840 -3.015076\n",
       "E -0.986084  0.034935  1.039179  0.893920 -0.663813\n",
       "F -1.176792  0.137833 -0.419405 -0.704075  2.057130"
      ]
     },
     "execution_count": 21,
     "metadata": {},
     "output_type": "execute_result"
    }
   ],
   "source": [
    "dframe2 = dframe.reindex(['A','B','C','D','E','F'])\n",
    "dframe2"
   ]
  },
  {
   "cell_type": "code",
   "execution_count": 22,
   "metadata": {
    "collapsed": true
   },
   "outputs": [],
   "source": [
    "new_columns=['col1','col2','col3','col4','col5','col6']"
   ]
  },
  {
   "cell_type": "code",
   "execution_count": 25,
   "metadata": {
    "collapsed": false
   },
   "outputs": [
    {
     "data": {
      "text/html": [
       "<div>\n",
       "<table border=\"1\" class=\"dataframe\">\n",
       "  <thead>\n",
       "    <tr style=\"text-align: right;\">\n",
       "      <th></th>\n",
       "      <th>col1</th>\n",
       "      <th>col2</th>\n",
       "      <th>col3</th>\n",
       "      <th>col4</th>\n",
       "      <th>col5</th>\n",
       "    </tr>\n",
       "  </thead>\n",
       "  <tbody>\n",
       "    <tr>\n",
       "      <th>A</th>\n",
       "      <td>-0.850490</td>\n",
       "      <td>3.163924</td>\n",
       "      <td>-0.682093</td>\n",
       "      <td>-0.771686</td>\n",
       "      <td>0.686310</td>\n",
       "    </tr>\n",
       "    <tr>\n",
       "      <th>B</th>\n",
       "      <td>0.321337</td>\n",
       "      <td>-0.058771</td>\n",
       "      <td>0.761163</td>\n",
       "      <td>0.886831</td>\n",
       "      <td>-0.519606</td>\n",
       "    </tr>\n",
       "    <tr>\n",
       "      <th>D</th>\n",
       "      <td>0.552078</td>\n",
       "      <td>1.070933</td>\n",
       "      <td>-1.156320</td>\n",
       "      <td>0.345840</td>\n",
       "      <td>-3.015076</td>\n",
       "    </tr>\n",
       "    <tr>\n",
       "      <th>E</th>\n",
       "      <td>-0.986084</td>\n",
       "      <td>0.034935</td>\n",
       "      <td>1.039179</td>\n",
       "      <td>0.893920</td>\n",
       "      <td>-0.663813</td>\n",
       "    </tr>\n",
       "    <tr>\n",
       "      <th>F</th>\n",
       "      <td>-1.176792</td>\n",
       "      <td>0.137833</td>\n",
       "      <td>-0.419405</td>\n",
       "      <td>-0.704075</td>\n",
       "      <td>2.057130</td>\n",
       "    </tr>\n",
       "  </tbody>\n",
       "</table>\n",
       "</div>"
      ],
      "text/plain": [
       "       col1      col2      col3      col4      col5\n",
       "A -0.850490  3.163924 -0.682093 -0.771686  0.686310\n",
       "B  0.321337 -0.058771  0.761163  0.886831 -0.519606\n",
       "D  0.552078  1.070933 -1.156320  0.345840 -3.015076\n",
       "E -0.986084  0.034935  1.039179  0.893920 -0.663813\n",
       "F -1.176792  0.137833 -0.419405 -0.704075  2.057130"
      ]
     },
     "execution_count": 25,
     "metadata": {},
     "output_type": "execute_result"
    }
   ],
   "source": [
    "dframe2.reindex(columns=new_columns)\n",
    "dframe"
   ]
  },
  {
   "cell_type": "code",
   "execution_count": 29,
   "metadata": {
    "collapsed": false
   },
   "outputs": [
    {
     "data": {
      "text/html": [
       "<div>\n",
       "<table border=\"1\" class=\"dataframe\">\n",
       "  <thead>\n",
       "    <tr style=\"text-align: right;\">\n",
       "      <th></th>\n",
       "      <th>col1</th>\n",
       "      <th>col2</th>\n",
       "      <th>col3</th>\n",
       "      <th>col4</th>\n",
       "      <th>col5</th>\n",
       "    </tr>\n",
       "  </thead>\n",
       "  <tbody>\n",
       "    <tr>\n",
       "      <th>A</th>\n",
       "      <td>-0.850490</td>\n",
       "      <td>3.163924</td>\n",
       "      <td>-0.682093</td>\n",
       "      <td>-0.771686</td>\n",
       "      <td>0.686310</td>\n",
       "    </tr>\n",
       "    <tr>\n",
       "      <th>B</th>\n",
       "      <td>0.321337</td>\n",
       "      <td>-0.058771</td>\n",
       "      <td>0.761163</td>\n",
       "      <td>0.886831</td>\n",
       "      <td>-0.519606</td>\n",
       "    </tr>\n",
       "    <tr>\n",
       "      <th>D</th>\n",
       "      <td>0.552078</td>\n",
       "      <td>1.070933</td>\n",
       "      <td>-1.156320</td>\n",
       "      <td>0.345840</td>\n",
       "      <td>-3.015076</td>\n",
       "    </tr>\n",
       "    <tr>\n",
       "      <th>E</th>\n",
       "      <td>-0.986084</td>\n",
       "      <td>0.034935</td>\n",
       "      <td>1.039179</td>\n",
       "      <td>0.893920</td>\n",
       "      <td>-0.663813</td>\n",
       "    </tr>\n",
       "    <tr>\n",
       "      <th>F</th>\n",
       "      <td>-1.176792</td>\n",
       "      <td>0.137833</td>\n",
       "      <td>-0.419405</td>\n",
       "      <td>-0.704075</td>\n",
       "      <td>2.057130</td>\n",
       "    </tr>\n",
       "  </tbody>\n",
       "</table>\n",
       "</div>"
      ],
      "text/plain": [
       "       col1      col2      col3      col4      col5\n",
       "A -0.850490  3.163924 -0.682093 -0.771686  0.686310\n",
       "B  0.321337 -0.058771  0.761163  0.886831 -0.519606\n",
       "D  0.552078  1.070933 -1.156320  0.345840 -3.015076\n",
       "E -0.986084  0.034935  1.039179  0.893920 -0.663813\n",
       "F -1.176792  0.137833 -0.419405 -0.704075  2.057130"
      ]
     },
     "execution_count": 29,
     "metadata": {},
     "output_type": "execute_result"
    }
   ],
   "source": [
    "dframe"
   ]
  },
  {
   "cell_type": "code",
   "execution_count": 30,
   "metadata": {
    "collapsed": false
   },
   "outputs": [
    {
     "data": {
      "text/html": [
       "<div>\n",
       "<table border=\"1\" class=\"dataframe\">\n",
       "  <thead>\n",
       "    <tr style=\"text-align: right;\">\n",
       "      <th></th>\n",
       "      <th>col1</th>\n",
       "      <th>col2</th>\n",
       "      <th>col3</th>\n",
       "      <th>col4</th>\n",
       "      <th>col5</th>\n",
       "      <th>col6</th>\n",
       "    </tr>\n",
       "  </thead>\n",
       "  <tbody>\n",
       "    <tr>\n",
       "      <th>A</th>\n",
       "      <td>-0.850490</td>\n",
       "      <td>3.163924</td>\n",
       "      <td>-0.682093</td>\n",
       "      <td>-0.771686</td>\n",
       "      <td>0.686310</td>\n",
       "      <td>NaN</td>\n",
       "    </tr>\n",
       "    <tr>\n",
       "      <th>B</th>\n",
       "      <td>0.321337</td>\n",
       "      <td>-0.058771</td>\n",
       "      <td>0.761163</td>\n",
       "      <td>0.886831</td>\n",
       "      <td>-0.519606</td>\n",
       "      <td>NaN</td>\n",
       "    </tr>\n",
       "    <tr>\n",
       "      <th>C</th>\n",
       "      <td>NaN</td>\n",
       "      <td>NaN</td>\n",
       "      <td>NaN</td>\n",
       "      <td>NaN</td>\n",
       "      <td>NaN</td>\n",
       "      <td>NaN</td>\n",
       "    </tr>\n",
       "    <tr>\n",
       "      <th>D</th>\n",
       "      <td>0.552078</td>\n",
       "      <td>1.070933</td>\n",
       "      <td>-1.156320</td>\n",
       "      <td>0.345840</td>\n",
       "      <td>-3.015076</td>\n",
       "      <td>NaN</td>\n",
       "    </tr>\n",
       "    <tr>\n",
       "      <th>E</th>\n",
       "      <td>-0.986084</td>\n",
       "      <td>0.034935</td>\n",
       "      <td>1.039179</td>\n",
       "      <td>0.893920</td>\n",
       "      <td>-0.663813</td>\n",
       "      <td>NaN</td>\n",
       "    </tr>\n",
       "    <tr>\n",
       "      <th>F</th>\n",
       "      <td>-1.176792</td>\n",
       "      <td>0.137833</td>\n",
       "      <td>-0.419405</td>\n",
       "      <td>-0.704075</td>\n",
       "      <td>2.057130</td>\n",
       "      <td>NaN</td>\n",
       "    </tr>\n",
       "  </tbody>\n",
       "</table>\n",
       "</div>"
      ],
      "text/plain": [
       "       col1      col2      col3      col4      col5  col6\n",
       "A -0.850490  3.163924 -0.682093 -0.771686  0.686310   NaN\n",
       "B  0.321337 -0.058771  0.761163  0.886831 -0.519606   NaN\n",
       "C       NaN       NaN       NaN       NaN       NaN   NaN\n",
       "D  0.552078  1.070933 -1.156320  0.345840 -3.015076   NaN\n",
       "E -0.986084  0.034935  1.039179  0.893920 -0.663813   NaN\n",
       "F -1.176792  0.137833 -0.419405 -0.704075  2.057130   NaN"
      ]
     },
     "execution_count": 30,
     "metadata": {},
     "output_type": "execute_result"
    }
   ],
   "source": [
    "dframe.ix[['A','B','C','D','E','F'],new_columns]"
   ]
  },
  {
   "cell_type": "code",
   "execution_count": null,
   "metadata": {
    "collapsed": true
   },
   "outputs": [],
   "source": []
  }
 ],
 "metadata": {
  "kernelspec": {
   "display_name": "Python 2",
   "language": "python",
   "name": "python2"
  },
  "language_info": {
   "codemirror_mode": {
    "name": "ipython",
    "version": 2
   },
   "file_extension": ".py",
   "mimetype": "text/x-python",
   "name": "python",
   "nbconvert_exporter": "python",
   "pygments_lexer": "ipython2",
   "version": "2.7.11"
  }
 },
 "nbformat": 4,
 "nbformat_minor": 0
}
