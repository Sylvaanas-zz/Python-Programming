{
 "cells": [
  {
   "cell_type": "code",
   "execution_count": 1,
   "metadata": {
    "collapsed": true
   },
   "outputs": [],
   "source": [
    "import numpy as np\n",
    "import pandas as pd\n",
    "from pandas import Series, DataFrame"
   ]
  },
  {
   "cell_type": "code",
   "execution_count": 5,
   "metadata": {
    "collapsed": false
   },
   "outputs": [
    {
     "data": {
      "text/plain": [
       "True"
      ]
     },
     "execution_count": 5,
     "metadata": {},
     "output_type": "execute_result"
    }
   ],
   "source": [
    "import webbrowser\n",
    "websites ='http://en.wikipedia.org/wiki/NFL_win-loss_records'\n",
    "webbrowser.open(websites)"
   ]
  },
  {
   "cell_type": "code",
   "execution_count": 6,
   "metadata": {
    "collapsed": true
   },
   "outputs": [],
   "source": [
    "nfl_frame = pd.read_clipboard()"
   ]
  },
  {
   "cell_type": "code",
   "execution_count": 8,
   "metadata": {
    "collapsed": false
   },
   "outputs": [
    {
     "data": {
      "text/html": [
       "<div>\n",
       "<table border=\"1\" class=\"dataframe\">\n",
       "  <thead>\n",
       "    <tr style=\"text-align: right;\">\n",
       "      <th></th>\n",
       "      <th>Rank</th>\n",
       "      <th>Team</th>\n",
       "      <th>Won</th>\n",
       "      <th>Lost</th>\n",
       "      <th>Tied*</th>\n",
       "      <th>Pct.</th>\n",
       "      <th>First Season</th>\n",
       "      <th>Total Games</th>\n",
       "      <th>Conference</th>\n",
       "    </tr>\n",
       "  </thead>\n",
       "  <tbody>\n",
       "    <tr>\n",
       "      <th>0</th>\n",
       "      <td>1</td>\n",
       "      <td>Green Bay Packers</td>\n",
       "      <td>751</td>\n",
       "      <td>567</td>\n",
       "      <td>37</td>\n",
       "      <td>0.568</td>\n",
       "      <td>1921</td>\n",
       "      <td>1355</td>\n",
       "      <td>NFC North</td>\n",
       "    </tr>\n",
       "    <tr>\n",
       "      <th>1</th>\n",
       "      <td>2</td>\n",
       "      <td>Chicago Bears</td>\n",
       "      <td>758</td>\n",
       "      <td>573</td>\n",
       "      <td>42</td>\n",
       "      <td>0.567</td>\n",
       "      <td>1920</td>\n",
       "      <td>1373</td>\n",
       "      <td>NFC North</td>\n",
       "    </tr>\n",
       "    <tr>\n",
       "      <th>2</th>\n",
       "      <td>3</td>\n",
       "      <td>Dallas Cowboys</td>\n",
       "      <td>515</td>\n",
       "      <td>392</td>\n",
       "      <td>6</td>\n",
       "      <td>0.567</td>\n",
       "      <td>1960</td>\n",
       "      <td>913</td>\n",
       "      <td>NFC East</td>\n",
       "    </tr>\n",
       "    <tr>\n",
       "      <th>3</th>\n",
       "      <td>4</td>\n",
       "      <td>Miami Dolphins</td>\n",
       "      <td>449</td>\n",
       "      <td>355</td>\n",
       "      <td>4</td>\n",
       "      <td>0.558</td>\n",
       "      <td>1966</td>\n",
       "      <td>808</td>\n",
       "      <td>AFC East</td>\n",
       "    </tr>\n",
       "    <tr>\n",
       "      <th>4</th>\n",
       "      <td>5</td>\n",
       "      <td>New England Patriots</td>\n",
       "      <td>490</td>\n",
       "      <td>399</td>\n",
       "      <td>9</td>\n",
       "      <td>0.551</td>\n",
       "      <td>1960</td>\n",
       "      <td>898</td>\n",
       "      <td>AFC East</td>\n",
       "    </tr>\n",
       "    <tr>\n",
       "      <th>5</th>\n",
       "      <td>6</td>\n",
       "      <td>Baltimore Ravens</td>\n",
       "      <td>187</td>\n",
       "      <td>154</td>\n",
       "      <td>1</td>\n",
       "      <td>0.548</td>\n",
       "      <td>1996</td>\n",
       "      <td>342</td>\n",
       "      <td>AFC North</td>\n",
       "    </tr>\n",
       "  </tbody>\n",
       "</table>\n",
       "</div>"
      ],
      "text/plain": [
       "   Rank                  Team  Won  Lost  Tied*   Pct.  First Season  \\\n",
       "0     1     Green Bay Packers  751   567     37  0.568          1921   \n",
       "1     2         Chicago Bears  758   573     42  0.567          1920   \n",
       "2     3        Dallas Cowboys  515   392      6  0.567          1960   \n",
       "3     4        Miami Dolphins  449   355      4  0.558          1966   \n",
       "4     5  New England Patriots  490   399      9  0.551          1960   \n",
       "5     6      Baltimore Ravens  187   154      1  0.548          1996   \n",
       "\n",
       "   Total Games Conference  \n",
       "0         1355  NFC North  \n",
       "1         1373  NFC North  \n",
       "2          913   NFC East  \n",
       "3          808   AFC East  \n",
       "4          898   AFC East  \n",
       "5          342  AFC North  "
      ]
     },
     "execution_count": 8,
     "metadata": {},
     "output_type": "execute_result"
    }
   ],
   "source": [
    "nfl_frame"
   ]
  },
  {
   "cell_type": "code",
   "execution_count": 9,
   "metadata": {
    "collapsed": false
   },
   "outputs": [
    {
     "data": {
      "text/plain": [
       "Index([u'Rank', u'Team', u'Won', u'Lost', u'Tied*', u'Pct.', u'First Season',\n",
       "       u'Total Games', u'Conference'],\n",
       "      dtype='object')"
      ]
     },
     "execution_count": 9,
     "metadata": {},
     "output_type": "execute_result"
    }
   ],
   "source": [
    "nfl_frame.columns"
   ]
  },
  {
   "cell_type": "code",
   "execution_count": 14,
   "metadata": {
    "collapsed": false
   },
   "outputs": [
    {
     "data": {
      "text/plain": [
       "0    1921\n",
       "1    1920\n",
       "2    1960\n",
       "3    1966\n",
       "4    1960\n",
       "5    1996\n",
       "Name: First Season, dtype: int64"
      ]
     },
     "execution_count": 14,
     "metadata": {},
     "output_type": "execute_result"
    }
   ],
   "source": [
    "nfl_frame['First Season']"
   ]
  },
  {
   "cell_type": "code",
   "execution_count": 15,
   "metadata": {
    "collapsed": false
   },
   "outputs": [
    {
     "data": {
      "text/html": [
       "<div>\n",
       "<table border=\"1\" class=\"dataframe\">\n",
       "  <thead>\n",
       "    <tr style=\"text-align: right;\">\n",
       "      <th></th>\n",
       "      <th>Team</th>\n",
       "      <th>First Season</th>\n",
       "      <th>Total Games</th>\n",
       "    </tr>\n",
       "  </thead>\n",
       "  <tbody>\n",
       "    <tr>\n",
       "      <th>0</th>\n",
       "      <td>Green Bay Packers</td>\n",
       "      <td>1921</td>\n",
       "      <td>1355</td>\n",
       "    </tr>\n",
       "    <tr>\n",
       "      <th>1</th>\n",
       "      <td>Chicago Bears</td>\n",
       "      <td>1920</td>\n",
       "      <td>1373</td>\n",
       "    </tr>\n",
       "    <tr>\n",
       "      <th>2</th>\n",
       "      <td>Dallas Cowboys</td>\n",
       "      <td>1960</td>\n",
       "      <td>913</td>\n",
       "    </tr>\n",
       "    <tr>\n",
       "      <th>3</th>\n",
       "      <td>Miami Dolphins</td>\n",
       "      <td>1966</td>\n",
       "      <td>808</td>\n",
       "    </tr>\n",
       "    <tr>\n",
       "      <th>4</th>\n",
       "      <td>New England Patriots</td>\n",
       "      <td>1960</td>\n",
       "      <td>898</td>\n",
       "    </tr>\n",
       "    <tr>\n",
       "      <th>5</th>\n",
       "      <td>Baltimore Ravens</td>\n",
       "      <td>1996</td>\n",
       "      <td>342</td>\n",
       "    </tr>\n",
       "  </tbody>\n",
       "</table>\n",
       "</div>"
      ],
      "text/plain": [
       "                   Team  First Season  Total Games\n",
       "0     Green Bay Packers          1921         1355\n",
       "1         Chicago Bears          1920         1373\n",
       "2        Dallas Cowboys          1960          913\n",
       "3        Miami Dolphins          1966          808\n",
       "4  New England Patriots          1960          898\n",
       "5      Baltimore Ravens          1996          342"
      ]
     },
     "execution_count": 15,
     "metadata": {},
     "output_type": "execute_result"
    }
   ],
   "source": [
    "DataFrame(nfl_frame,columns=['Team','First Season','Total Games'])"
   ]
  },
  {
   "cell_type": "code",
   "execution_count": 17,
   "metadata": {
    "collapsed": false
   },
   "outputs": [
    {
     "data": {
      "text/html": [
       "<div>\n",
       "<table border=\"1\" class=\"dataframe\">\n",
       "  <thead>\n",
       "    <tr style=\"text-align: right;\">\n",
       "      <th></th>\n",
       "      <th>Team</th>\n",
       "      <th>First Season</th>\n",
       "      <th>Total Games</th>\n",
       "      <th>Stadium</th>\n",
       "    </tr>\n",
       "  </thead>\n",
       "  <tbody>\n",
       "    <tr>\n",
       "      <th>0</th>\n",
       "      <td>Green Bay Packers</td>\n",
       "      <td>1921</td>\n",
       "      <td>1355</td>\n",
       "      <td>NaN</td>\n",
       "    </tr>\n",
       "    <tr>\n",
       "      <th>1</th>\n",
       "      <td>Chicago Bears</td>\n",
       "      <td>1920</td>\n",
       "      <td>1373</td>\n",
       "      <td>NaN</td>\n",
       "    </tr>\n",
       "    <tr>\n",
       "      <th>2</th>\n",
       "      <td>Dallas Cowboys</td>\n",
       "      <td>1960</td>\n",
       "      <td>913</td>\n",
       "      <td>NaN</td>\n",
       "    </tr>\n",
       "    <tr>\n",
       "      <th>3</th>\n",
       "      <td>Miami Dolphins</td>\n",
       "      <td>1966</td>\n",
       "      <td>808</td>\n",
       "      <td>NaN</td>\n",
       "    </tr>\n",
       "    <tr>\n",
       "      <th>4</th>\n",
       "      <td>New England Patriots</td>\n",
       "      <td>1960</td>\n",
       "      <td>898</td>\n",
       "      <td>NaN</td>\n",
       "    </tr>\n",
       "    <tr>\n",
       "      <th>5</th>\n",
       "      <td>Baltimore Ravens</td>\n",
       "      <td>1996</td>\n",
       "      <td>342</td>\n",
       "      <td>NaN</td>\n",
       "    </tr>\n",
       "  </tbody>\n",
       "</table>\n",
       "</div>"
      ],
      "text/plain": [
       "                   Team  First Season  Total Games  Stadium\n",
       "0     Green Bay Packers          1921         1355      NaN\n",
       "1         Chicago Bears          1920         1373      NaN\n",
       "2        Dallas Cowboys          1960          913      NaN\n",
       "3        Miami Dolphins          1966          808      NaN\n",
       "4  New England Patriots          1960          898      NaN\n",
       "5      Baltimore Ravens          1996          342      NaN"
      ]
     },
     "execution_count": 17,
     "metadata": {},
     "output_type": "execute_result"
    }
   ],
   "source": [
    "DataFrame(nfl_frame,columns=['Team','First Season','Total Games','Stadium'])"
   ]
  },
  {
   "cell_type": "code",
   "execution_count": 18,
   "metadata": {
    "collapsed": false
   },
   "outputs": [
    {
     "data": {
      "text/html": [
       "<div>\n",
       "<table border=\"1\" class=\"dataframe\">\n",
       "  <thead>\n",
       "    <tr style=\"text-align: right;\">\n",
       "      <th></th>\n",
       "      <th>Rank</th>\n",
       "      <th>Team</th>\n",
       "      <th>Won</th>\n",
       "      <th>Lost</th>\n",
       "      <th>Tied*</th>\n",
       "      <th>Pct.</th>\n",
       "      <th>First Season</th>\n",
       "      <th>Total Games</th>\n",
       "      <th>Conference</th>\n",
       "    </tr>\n",
       "  </thead>\n",
       "  <tbody>\n",
       "    <tr>\n",
       "      <th>0</th>\n",
       "      <td>1</td>\n",
       "      <td>Green Bay Packers</td>\n",
       "      <td>751</td>\n",
       "      <td>567</td>\n",
       "      <td>37</td>\n",
       "      <td>0.568</td>\n",
       "      <td>1921</td>\n",
       "      <td>1355</td>\n",
       "      <td>NFC North</td>\n",
       "    </tr>\n",
       "    <tr>\n",
       "      <th>1</th>\n",
       "      <td>2</td>\n",
       "      <td>Chicago Bears</td>\n",
       "      <td>758</td>\n",
       "      <td>573</td>\n",
       "      <td>42</td>\n",
       "      <td>0.567</td>\n",
       "      <td>1920</td>\n",
       "      <td>1373</td>\n",
       "      <td>NFC North</td>\n",
       "    </tr>\n",
       "    <tr>\n",
       "      <th>2</th>\n",
       "      <td>3</td>\n",
       "      <td>Dallas Cowboys</td>\n",
       "      <td>515</td>\n",
       "      <td>392</td>\n",
       "      <td>6</td>\n",
       "      <td>0.567</td>\n",
       "      <td>1960</td>\n",
       "      <td>913</td>\n",
       "      <td>NFC East</td>\n",
       "    </tr>\n",
       "    <tr>\n",
       "      <th>3</th>\n",
       "      <td>4</td>\n",
       "      <td>Miami Dolphins</td>\n",
       "      <td>449</td>\n",
       "      <td>355</td>\n",
       "      <td>4</td>\n",
       "      <td>0.558</td>\n",
       "      <td>1966</td>\n",
       "      <td>808</td>\n",
       "      <td>AFC East</td>\n",
       "    </tr>\n",
       "    <tr>\n",
       "      <th>4</th>\n",
       "      <td>5</td>\n",
       "      <td>New England Patriots</td>\n",
       "      <td>490</td>\n",
       "      <td>399</td>\n",
       "      <td>9</td>\n",
       "      <td>0.551</td>\n",
       "      <td>1960</td>\n",
       "      <td>898</td>\n",
       "      <td>AFC East</td>\n",
       "    </tr>\n",
       "    <tr>\n",
       "      <th>5</th>\n",
       "      <td>6</td>\n",
       "      <td>Baltimore Ravens</td>\n",
       "      <td>187</td>\n",
       "      <td>154</td>\n",
       "      <td>1</td>\n",
       "      <td>0.548</td>\n",
       "      <td>1996</td>\n",
       "      <td>342</td>\n",
       "      <td>AFC North</td>\n",
       "    </tr>\n",
       "  </tbody>\n",
       "</table>\n",
       "</div>"
      ],
      "text/plain": [
       "   Rank                  Team  Won  Lost  Tied*   Pct.  First Season  \\\n",
       "0     1     Green Bay Packers  751   567     37  0.568          1921   \n",
       "1     2         Chicago Bears  758   573     42  0.567          1920   \n",
       "2     3        Dallas Cowboys  515   392      6  0.567          1960   \n",
       "3     4        Miami Dolphins  449   355      4  0.558          1966   \n",
       "4     5  New England Patriots  490   399      9  0.551          1960   \n",
       "5     6      Baltimore Ravens  187   154      1  0.548          1996   \n",
       "\n",
       "   Total Games Conference  \n",
       "0         1355  NFC North  \n",
       "1         1373  NFC North  \n",
       "2          913   NFC East  \n",
       "3          808   AFC East  \n",
       "4          898   AFC East  \n",
       "5          342  AFC North  "
      ]
     },
     "execution_count": 18,
     "metadata": {},
     "output_type": "execute_result"
    }
   ],
   "source": [
    "nfl_frame"
   ]
  },
  {
   "cell_type": "code",
   "execution_count": 19,
   "metadata": {
    "collapsed": false
   },
   "outputs": [
    {
     "data": {
      "text/plain": [
       "<bound method DataFrame.head of    Rank                  Team  Won  Lost  Tied*   Pct.  First Season  \\\n",
       "0     1     Green Bay Packers  751   567     37  0.568          1921   \n",
       "1     2         Chicago Bears  758   573     42  0.567          1920   \n",
       "2     3        Dallas Cowboys  515   392      6  0.567          1960   \n",
       "3     4        Miami Dolphins  449   355      4  0.558          1966   \n",
       "4     5  New England Patriots  490   399      9  0.551          1960   \n",
       "5     6      Baltimore Ravens  187   154      1  0.548          1996   \n",
       "\n",
       "   Total Games Conference  \n",
       "0         1355  NFC North  \n",
       "1         1373  NFC North  \n",
       "2          913   NFC East  \n",
       "3          808   AFC East  \n",
       "4          898   AFC East  \n",
       "5          342  AFC North  >"
      ]
     },
     "execution_count": 19,
     "metadata": {},
     "output_type": "execute_result"
    }
   ],
   "source": [
    "nfl_frame.head"
   ]
  },
  {
   "cell_type": "code",
   "execution_count": 22,
   "metadata": {
    "collapsed": false
   },
   "outputs": [
    {
     "data": {
      "text/html": [
       "<div>\n",
       "<table border=\"1\" class=\"dataframe\">\n",
       "  <thead>\n",
       "    <tr style=\"text-align: right;\">\n",
       "      <th></th>\n",
       "      <th>Rank</th>\n",
       "      <th>Team</th>\n",
       "      <th>Won</th>\n",
       "      <th>Lost</th>\n",
       "      <th>Tied*</th>\n",
       "      <th>Pct.</th>\n",
       "      <th>First Season</th>\n",
       "      <th>Total Games</th>\n",
       "      <th>Conference</th>\n",
       "    </tr>\n",
       "  </thead>\n",
       "  <tbody>\n",
       "    <tr>\n",
       "      <th>4</th>\n",
       "      <td>5</td>\n",
       "      <td>New England Patriots</td>\n",
       "      <td>490</td>\n",
       "      <td>399</td>\n",
       "      <td>9</td>\n",
       "      <td>0.551</td>\n",
       "      <td>1960</td>\n",
       "      <td>898</td>\n",
       "      <td>AFC East</td>\n",
       "    </tr>\n",
       "    <tr>\n",
       "      <th>5</th>\n",
       "      <td>6</td>\n",
       "      <td>Baltimore Ravens</td>\n",
       "      <td>187</td>\n",
       "      <td>154</td>\n",
       "      <td>1</td>\n",
       "      <td>0.548</td>\n",
       "      <td>1996</td>\n",
       "      <td>342</td>\n",
       "      <td>AFC North</td>\n",
       "    </tr>\n",
       "  </tbody>\n",
       "</table>\n",
       "</div>"
      ],
      "text/plain": [
       "   Rank                  Team  Won  Lost  Tied*   Pct.  First Season  \\\n",
       "4     5  New England Patriots  490   399      9  0.551          1960   \n",
       "5     6      Baltimore Ravens  187   154      1  0.548          1996   \n",
       "\n",
       "   Total Games Conference  \n",
       "4          898   AFC East  \n",
       "5          342  AFC North  "
      ]
     },
     "execution_count": 22,
     "metadata": {},
     "output_type": "execute_result"
    }
   ],
   "source": [
    "nfl_frame.tail (2)"
   ]
  },
  {
   "cell_type": "code",
   "execution_count": 23,
   "metadata": {
    "collapsed": false
   },
   "outputs": [
    {
     "data": {
      "text/plain": [
       "Rank                         4\n",
       "Team            Miami Dolphins\n",
       "Won                        449\n",
       "Lost                       355\n",
       "Tied*                        4\n",
       "Pct.                     0.558\n",
       "First Season              1966\n",
       "Total Games                808\n",
       "Conference            AFC East\n",
       "Name: 3, dtype: object"
      ]
     },
     "execution_count": 23,
     "metadata": {},
     "output_type": "execute_result"
    }
   ],
   "source": [
    "nfl_frame.ix[3]"
   ]
  },
  {
   "cell_type": "code",
   "execution_count": 27,
   "metadata": {
    "collapsed": false
   },
   "outputs": [],
   "source": [
    "nfl_frame['Stadium'] = \"Levi's Stadium\""
   ]
  },
  {
   "cell_type": "code",
   "execution_count": 28,
   "metadata": {
    "collapsed": false
   },
   "outputs": [
    {
     "data": {
      "text/html": [
       "<div>\n",
       "<table border=\"1\" class=\"dataframe\">\n",
       "  <thead>\n",
       "    <tr style=\"text-align: right;\">\n",
       "      <th></th>\n",
       "      <th>Rank</th>\n",
       "      <th>Team</th>\n",
       "      <th>Won</th>\n",
       "      <th>Lost</th>\n",
       "      <th>Tied*</th>\n",
       "      <th>Pct.</th>\n",
       "      <th>First Season</th>\n",
       "      <th>Total Games</th>\n",
       "      <th>Conference</th>\n",
       "      <th>Stadium</th>\n",
       "    </tr>\n",
       "  </thead>\n",
       "  <tbody>\n",
       "    <tr>\n",
       "      <th>0</th>\n",
       "      <td>1</td>\n",
       "      <td>Green Bay Packers</td>\n",
       "      <td>751</td>\n",
       "      <td>567</td>\n",
       "      <td>37</td>\n",
       "      <td>0.568</td>\n",
       "      <td>1921</td>\n",
       "      <td>1355</td>\n",
       "      <td>NFC North</td>\n",
       "      <td>Levi's Stadium</td>\n",
       "    </tr>\n",
       "    <tr>\n",
       "      <th>1</th>\n",
       "      <td>2</td>\n",
       "      <td>Chicago Bears</td>\n",
       "      <td>758</td>\n",
       "      <td>573</td>\n",
       "      <td>42</td>\n",
       "      <td>0.567</td>\n",
       "      <td>1920</td>\n",
       "      <td>1373</td>\n",
       "      <td>NFC North</td>\n",
       "      <td>Levi's Stadium</td>\n",
       "    </tr>\n",
       "    <tr>\n",
       "      <th>2</th>\n",
       "      <td>3</td>\n",
       "      <td>Dallas Cowboys</td>\n",
       "      <td>515</td>\n",
       "      <td>392</td>\n",
       "      <td>6</td>\n",
       "      <td>0.567</td>\n",
       "      <td>1960</td>\n",
       "      <td>913</td>\n",
       "      <td>NFC East</td>\n",
       "      <td>Levi's Stadium</td>\n",
       "    </tr>\n",
       "    <tr>\n",
       "      <th>3</th>\n",
       "      <td>4</td>\n",
       "      <td>Miami Dolphins</td>\n",
       "      <td>449</td>\n",
       "      <td>355</td>\n",
       "      <td>4</td>\n",
       "      <td>0.558</td>\n",
       "      <td>1966</td>\n",
       "      <td>808</td>\n",
       "      <td>AFC East</td>\n",
       "      <td>Levi's Stadium</td>\n",
       "    </tr>\n",
       "    <tr>\n",
       "      <th>4</th>\n",
       "      <td>5</td>\n",
       "      <td>New England Patriots</td>\n",
       "      <td>490</td>\n",
       "      <td>399</td>\n",
       "      <td>9</td>\n",
       "      <td>0.551</td>\n",
       "      <td>1960</td>\n",
       "      <td>898</td>\n",
       "      <td>AFC East</td>\n",
       "      <td>Levi's Stadium</td>\n",
       "    </tr>\n",
       "    <tr>\n",
       "      <th>5</th>\n",
       "      <td>6</td>\n",
       "      <td>Baltimore Ravens</td>\n",
       "      <td>187</td>\n",
       "      <td>154</td>\n",
       "      <td>1</td>\n",
       "      <td>0.548</td>\n",
       "      <td>1996</td>\n",
       "      <td>342</td>\n",
       "      <td>AFC North</td>\n",
       "      <td>Levi's Stadium</td>\n",
       "    </tr>\n",
       "  </tbody>\n",
       "</table>\n",
       "</div>"
      ],
      "text/plain": [
       "   Rank                  Team  Won  Lost  Tied*   Pct.  First Season  \\\n",
       "0     1     Green Bay Packers  751   567     37  0.568          1921   \n",
       "1     2         Chicago Bears  758   573     42  0.567          1920   \n",
       "2     3        Dallas Cowboys  515   392      6  0.567          1960   \n",
       "3     4        Miami Dolphins  449   355      4  0.558          1966   \n",
       "4     5  New England Patriots  490   399      9  0.551          1960   \n",
       "5     6      Baltimore Ravens  187   154      1  0.548          1996   \n",
       "\n",
       "   Total Games Conference         Stadium  \n",
       "0         1355  NFC North  Levi's Stadium  \n",
       "1         1373  NFC North  Levi's Stadium  \n",
       "2          913   NFC East  Levi's Stadium  \n",
       "3          808   AFC East  Levi's Stadium  \n",
       "4          898   AFC East  Levi's Stadium  \n",
       "5          342  AFC North  Levi's Stadium  "
      ]
     },
     "execution_count": 28,
     "metadata": {},
     "output_type": "execute_result"
    }
   ],
   "source": [
    "nfl_frame"
   ]
  },
  {
   "cell_type": "code",
   "execution_count": 36,
   "metadata": {
    "collapsed": false
   },
   "outputs": [
    {
     "data": {
      "text/html": [
       "<div>\n",
       "<table border=\"1\" class=\"dataframe\">\n",
       "  <thead>\n",
       "    <tr style=\"text-align: right;\">\n",
       "      <th></th>\n",
       "      <th>Rank</th>\n",
       "      <th>Team</th>\n",
       "      <th>Won</th>\n",
       "      <th>Lost</th>\n",
       "      <th>Tied*</th>\n",
       "      <th>Pct.</th>\n",
       "      <th>First Season</th>\n",
       "      <th>Total Games</th>\n",
       "      <th>Conference</th>\n",
       "      <th>Stadium</th>\n",
       "    </tr>\n",
       "  </thead>\n",
       "  <tbody>\n",
       "    <tr>\n",
       "      <th>0</th>\n",
       "      <td>1</td>\n",
       "      <td>Green Bay Packers</td>\n",
       "      <td>751</td>\n",
       "      <td>567</td>\n",
       "      <td>37</td>\n",
       "      <td>0.568</td>\n",
       "      <td>1921</td>\n",
       "      <td>1355</td>\n",
       "      <td>NFC North</td>\n",
       "      <td>0</td>\n",
       "    </tr>\n",
       "    <tr>\n",
       "      <th>1</th>\n",
       "      <td>2</td>\n",
       "      <td>Chicago Bears</td>\n",
       "      <td>758</td>\n",
       "      <td>573</td>\n",
       "      <td>42</td>\n",
       "      <td>0.567</td>\n",
       "      <td>1920</td>\n",
       "      <td>1373</td>\n",
       "      <td>NFC North</td>\n",
       "      <td>1</td>\n",
       "    </tr>\n",
       "    <tr>\n",
       "      <th>2</th>\n",
       "      <td>3</td>\n",
       "      <td>Dallas Cowboys</td>\n",
       "      <td>515</td>\n",
       "      <td>392</td>\n",
       "      <td>6</td>\n",
       "      <td>0.567</td>\n",
       "      <td>1960</td>\n",
       "      <td>913</td>\n",
       "      <td>NFC East</td>\n",
       "      <td>2</td>\n",
       "    </tr>\n",
       "    <tr>\n",
       "      <th>3</th>\n",
       "      <td>4</td>\n",
       "      <td>Miami Dolphins</td>\n",
       "      <td>449</td>\n",
       "      <td>355</td>\n",
       "      <td>4</td>\n",
       "      <td>0.558</td>\n",
       "      <td>1966</td>\n",
       "      <td>808</td>\n",
       "      <td>AFC East</td>\n",
       "      <td>3</td>\n",
       "    </tr>\n",
       "    <tr>\n",
       "      <th>4</th>\n",
       "      <td>5</td>\n",
       "      <td>New England Patriots</td>\n",
       "      <td>490</td>\n",
       "      <td>399</td>\n",
       "      <td>9</td>\n",
       "      <td>0.551</td>\n",
       "      <td>1960</td>\n",
       "      <td>898</td>\n",
       "      <td>AFC East</td>\n",
       "      <td>4</td>\n",
       "    </tr>\n",
       "    <tr>\n",
       "      <th>5</th>\n",
       "      <td>6</td>\n",
       "      <td>Baltimore Ravens</td>\n",
       "      <td>187</td>\n",
       "      <td>154</td>\n",
       "      <td>1</td>\n",
       "      <td>0.548</td>\n",
       "      <td>1996</td>\n",
       "      <td>342</td>\n",
       "      <td>AFC North</td>\n",
       "      <td>5</td>\n",
       "    </tr>\n",
       "  </tbody>\n",
       "</table>\n",
       "</div>"
      ],
      "text/plain": [
       "   Rank                  Team  Won  Lost  Tied*   Pct.  First Season  \\\n",
       "0     1     Green Bay Packers  751   567     37  0.568          1921   \n",
       "1     2         Chicago Bears  758   573     42  0.567          1920   \n",
       "2     3        Dallas Cowboys  515   392      6  0.567          1960   \n",
       "3     4        Miami Dolphins  449   355      4  0.558          1966   \n",
       "4     5  New England Patriots  490   399      9  0.551          1960   \n",
       "5     6      Baltimore Ravens  187   154      1  0.548          1996   \n",
       "\n",
       "   Total Games Conference  Stadium  \n",
       "0         1355  NFC North        0  \n",
       "1         1373  NFC North        1  \n",
       "2          913   NFC East        2  \n",
       "3          808   AFC East        3  \n",
       "4          898   AFC East        4  \n",
       "5          342  AFC North        5  "
      ]
     },
     "execution_count": 36,
     "metadata": {},
     "output_type": "execute_result"
    }
   ],
   "source": [
    "nfl_frame['Stadium'] = np.arange(6)\n",
    "nfl_frame"
   ]
  },
  {
   "cell_type": "code",
   "execution_count": 39,
   "metadata": {
    "collapsed": true
   },
   "outputs": [],
   "source": [
    "stadiums = Series([\"Levi's Stadium\",'AT&T',], index=[5,0])"
   ]
  },
  {
   "cell_type": "code",
   "execution_count": 40,
   "metadata": {
    "collapsed": false
   },
   "outputs": [
    {
     "data": {
      "text/plain": [
       "5    Levi's Stadium\n",
       "0              AT&T\n",
       "dtype: object"
      ]
     },
     "execution_count": 40,
     "metadata": {},
     "output_type": "execute_result"
    }
   ],
   "source": [
    "stadiums"
   ]
  },
  {
   "cell_type": "code",
   "execution_count": 41,
   "metadata": {
    "collapsed": true
   },
   "outputs": [],
   "source": [
    "nfl_frame[\"Stadium\"]=stadiums"
   ]
  },
  {
   "cell_type": "code",
   "execution_count": 50,
   "metadata": {
    "collapsed": false
   },
   "outputs": [
    {
     "data": {
      "text/html": [
       "<div>\n",
       "<table border=\"1\" class=\"dataframe\">\n",
       "  <thead>\n",
       "    <tr style=\"text-align: right;\">\n",
       "      <th></th>\n",
       "      <th>Rank</th>\n",
       "      <th>Team</th>\n",
       "      <th>Won</th>\n",
       "      <th>Lost</th>\n",
       "      <th>Tied*</th>\n",
       "      <th>Pct.</th>\n",
       "      <th>First Season</th>\n",
       "      <th>Total Games</th>\n",
       "      <th>Conference</th>\n",
       "    </tr>\n",
       "  </thead>\n",
       "  <tbody>\n",
       "    <tr>\n",
       "      <th>0</th>\n",
       "      <td>1</td>\n",
       "      <td>Green Bay Packers</td>\n",
       "      <td>751</td>\n",
       "      <td>567</td>\n",
       "      <td>37</td>\n",
       "      <td>0.568</td>\n",
       "      <td>1921</td>\n",
       "      <td>1355</td>\n",
       "      <td>NFC North</td>\n",
       "    </tr>\n",
       "    <tr>\n",
       "      <th>1</th>\n",
       "      <td>2</td>\n",
       "      <td>Chicago Bears</td>\n",
       "      <td>758</td>\n",
       "      <td>573</td>\n",
       "      <td>42</td>\n",
       "      <td>0.567</td>\n",
       "      <td>1920</td>\n",
       "      <td>1373</td>\n",
       "      <td>NFC North</td>\n",
       "    </tr>\n",
       "    <tr>\n",
       "      <th>2</th>\n",
       "      <td>3</td>\n",
       "      <td>Dallas Cowboys</td>\n",
       "      <td>515</td>\n",
       "      <td>392</td>\n",
       "      <td>6</td>\n",
       "      <td>0.567</td>\n",
       "      <td>1960</td>\n",
       "      <td>913</td>\n",
       "      <td>NFC East</td>\n",
       "    </tr>\n",
       "    <tr>\n",
       "      <th>3</th>\n",
       "      <td>4</td>\n",
       "      <td>Miami Dolphins</td>\n",
       "      <td>449</td>\n",
       "      <td>355</td>\n",
       "      <td>4</td>\n",
       "      <td>0.558</td>\n",
       "      <td>1966</td>\n",
       "      <td>808</td>\n",
       "      <td>AFC East</td>\n",
       "    </tr>\n",
       "    <tr>\n",
       "      <th>4</th>\n",
       "      <td>5</td>\n",
       "      <td>New England Patriots</td>\n",
       "      <td>490</td>\n",
       "      <td>399</td>\n",
       "      <td>9</td>\n",
       "      <td>0.551</td>\n",
       "      <td>1960</td>\n",
       "      <td>898</td>\n",
       "      <td>AFC East</td>\n",
       "    </tr>\n",
       "    <tr>\n",
       "      <th>5</th>\n",
       "      <td>6</td>\n",
       "      <td>Baltimore Ravens</td>\n",
       "      <td>187</td>\n",
       "      <td>154</td>\n",
       "      <td>1</td>\n",
       "      <td>0.548</td>\n",
       "      <td>1996</td>\n",
       "      <td>342</td>\n",
       "      <td>AFC North</td>\n",
       "    </tr>\n",
       "  </tbody>\n",
       "</table>\n",
       "</div>"
      ],
      "text/plain": [
       "   Rank                  Team  Won  Lost  Tied*   Pct.  First Season  \\\n",
       "0     1     Green Bay Packers  751   567     37  0.568          1921   \n",
       "1     2         Chicago Bears  758   573     42  0.567          1920   \n",
       "2     3        Dallas Cowboys  515   392      6  0.567          1960   \n",
       "3     4        Miami Dolphins  449   355      4  0.558          1966   \n",
       "4     5  New England Patriots  490   399      9  0.551          1960   \n",
       "5     6      Baltimore Ravens  187   154      1  0.548          1996   \n",
       "\n",
       "   Total Games Conference  \n",
       "0         1355  NFC North  \n",
       "1         1373  NFC North  \n",
       "2          913   NFC East  \n",
       "3          808   AFC East  \n",
       "4          898   AFC East  \n",
       "5          342  AFC North  "
      ]
     },
     "execution_count": 50,
     "metadata": {},
     "output_type": "execute_result"
    }
   ],
   "source": [
    "nfl_frame"
   ]
  },
  {
   "cell_type": "code",
   "execution_count": 52,
   "metadata": {
    "collapsed": false
   },
   "outputs": [],
   "source": [
    "data = {'City':['SF','LA','NYC'],'Population':[837000,3880000,8400000]}"
   ]
  },
  {
   "cell_type": "code",
   "execution_count": 53,
   "metadata": {
    "collapsed": true
   },
   "outputs": [],
   "source": [
    "city_frame = DataFrame(data)"
   ]
  },
  {
   "cell_type": "code",
   "execution_count": 54,
   "metadata": {
    "collapsed": false
   },
   "outputs": [
    {
     "data": {
      "text/html": [
       "<div>\n",
       "<table border=\"1\" class=\"dataframe\">\n",
       "  <thead>\n",
       "    <tr style=\"text-align: right;\">\n",
       "      <th></th>\n",
       "      <th>City</th>\n",
       "      <th>Population</th>\n",
       "    </tr>\n",
       "  </thead>\n",
       "  <tbody>\n",
       "    <tr>\n",
       "      <th>0</th>\n",
       "      <td>SF</td>\n",
       "      <td>837000</td>\n",
       "    </tr>\n",
       "    <tr>\n",
       "      <th>1</th>\n",
       "      <td>LA</td>\n",
       "      <td>3880000</td>\n",
       "    </tr>\n",
       "    <tr>\n",
       "      <th>2</th>\n",
       "      <td>NYC</td>\n",
       "      <td>8400000</td>\n",
       "    </tr>\n",
       "  </tbody>\n",
       "</table>\n",
       "</div>"
      ],
      "text/plain": [
       "  City  Population\n",
       "0   SF      837000\n",
       "1   LA     3880000\n",
       "2  NYC     8400000"
      ]
     },
     "execution_count": 54,
     "metadata": {},
     "output_type": "execute_result"
    }
   ],
   "source": [
    "city_frame"
   ]
  },
  {
   "cell_type": "code",
   "execution_count": null,
   "metadata": {
    "collapsed": true
   },
   "outputs": [],
   "source": []
  }
 ],
 "metadata": {
  "kernelspec": {
   "display_name": "Python 2",
   "language": "python",
   "name": "python2"
  },
  "language_info": {
   "codemirror_mode": {
    "name": "ipython",
    "version": 2
   },
   "file_extension": ".py",
   "mimetype": "text/x-python",
   "name": "python",
   "nbconvert_exporter": "python",
   "pygments_lexer": "ipython2",
   "version": "2.7.11"
  }
 },
 "nbformat": 4,
 "nbformat_minor": 0
}
